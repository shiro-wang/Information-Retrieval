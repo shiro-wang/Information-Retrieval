{
  "nbformat": 4,
  "nbformat_minor": 0,
  "metadata": {
    "colab": {
      "provenance": []
    },
    "kernelspec": {
      "name": "python3",
      "display_name": "Python 3"
    },
    "language_info": {
      "name": "python"
    }
  },
  "cells": [
    {
      "cell_type": "markdown",
      "source": [
        "## 資料下載"
      ],
      "metadata": {
        "id": "xN19AjA9JrJb"
      }
    },
    {
      "cell_type": "code",
      "execution_count": null,
      "metadata": {
        "colab": {
          "base_uri": "https://localhost:8080/"
        },
        "id": "ouYtcRZgG7g-",
        "outputId": "0341fb62-018f-4c24-cf21-626668bf6f0a"
      },
      "outputs": [
        {
          "output_type": "stream",
          "name": "stdout",
          "text": [
            "--2022-10-12 12:02:15--  https://www.dropbox.com/s/miyb2awm2esrcpk/pubmed%20220%20train.txt?dl=0\n",
            "Resolving www.dropbox.com (www.dropbox.com)... 162.125.3.18, 2620:100:6018:18::a27d:312\n",
            "Connecting to www.dropbox.com (www.dropbox.com)|162.125.3.18|:443... connected.\n",
            "HTTP request sent, awaiting response... 302 Found\n",
            "Location: /s/raw/miyb2awm2esrcpk/pubmed%20220%20train.txt [following]\n",
            "--2022-10-12 12:02:15--  https://www.dropbox.com/s/raw/miyb2awm2esrcpk/pubmed%20220%20train.txt\n",
            "Reusing existing connection to www.dropbox.com:443.\n",
            "HTTP request sent, awaiting response... 302 Found\n",
            "Location: https://uc6747ce514eca6905764194845a.dl.dropboxusercontent.com/cd/0/inline/Buptru52rpF-qTMemU6Z3lLztPwuvx3Z_EQbq2lyaIuGjvbUphC8kUKpbIS6eZknacQFk5eCySucLsi3WUuHRIEf7aR8D0_RpPiJERN6gd3wUsadylTj1FhD-DjFPi4onh122a3Tk4O4Nj3-vv87u3Rrt3lveAR_6pozmwsfwsp0ZA/file# [following]\n",
            "--2022-10-12 12:02:15--  https://uc6747ce514eca6905764194845a.dl.dropboxusercontent.com/cd/0/inline/Buptru52rpF-qTMemU6Z3lLztPwuvx3Z_EQbq2lyaIuGjvbUphC8kUKpbIS6eZknacQFk5eCySucLsi3WUuHRIEf7aR8D0_RpPiJERN6gd3wUsadylTj1FhD-DjFPi4onh122a3Tk4O4Nj3-vv87u3Rrt3lveAR_6pozmwsfwsp0ZA/file\n",
            "Resolving uc6747ce514eca6905764194845a.dl.dropboxusercontent.com (uc6747ce514eca6905764194845a.dl.dropboxusercontent.com)... 162.125.3.15, 2620:100:6018:15::a27d:30f\n",
            "Connecting to uc6747ce514eca6905764194845a.dl.dropboxusercontent.com (uc6747ce514eca6905764194845a.dl.dropboxusercontent.com)|162.125.3.15|:443... connected.\n",
            "HTTP request sent, awaiting response... 200 OK\n",
            "Length: 357620996 (341M) [text/plain]\n",
            "Saving to: ‘pubmed 220 train.txt?dl=0’\n",
            "\n",
            "pubmed 220 train.tx 100%[===================>] 341.05M   101MB/s    in 3.5s    \n",
            "\n",
            "2022-10-12 12:02:20 (98.5 MB/s) - ‘pubmed 220 train.txt?dl=0’ saved [357620996/357620996]\n",
            "\n"
          ]
        }
      ],
      "source": [
        "!wget https://www.dropbox.com/s/miyb2awm2esrcpk/pubmed%20220%20train.txt?dl=0"
      ]
    },
    {
      "cell_type": "code",
      "source": [
        "!ls"
      ],
      "metadata": {
        "colab": {
          "base_uri": "https://localhost:8080/"
        },
        "id": "JJt5AvZgIRs-",
        "outputId": "a83f34c0-974e-4657-bdec-a876929188e5"
      },
      "execution_count": null,
      "outputs": [
        {
          "output_type": "stream",
          "name": "stdout",
          "text": [
            " id_con_data   indexes\t'pubmed 220 train.txt?dl=0'   sample_data   train.txt\n"
          ]
        }
      ]
    },
    {
      "cell_type": "code",
      "source": [
        "!mv pubmed\\ 220\\ train.txt\\?dl\\=0 train.txt"
      ],
      "metadata": {
        "id": "TYA5xNP7IUtZ"
      },
      "execution_count": null,
      "outputs": []
    },
    {
      "cell_type": "code",
      "source": [
        "!head -n 50 train.txt"
      ],
      "metadata": {
        "colab": {
          "base_uri": "https://localhost:8080/"
        },
        "id": "iDxeNt7KInsB",
        "outputId": "f72a299b-79b5-496e-e7f4-75b131913635"
      },
      "execution_count": null,
      "outputs": [
        {
          "output_type": "stream",
          "name": "stdout",
          "text": [
            "###24491034\n",
            "BACKGROUND\tThe emergence of HIV as a chronic condition means that people living with HIV are required to take more responsibility for the self-management of their condition , including making physical , emotional and social adjustments .\n",
            "BACKGROUND\tThis paper describes the design and evaluation of Positive Outlook , an online program aiming to enhance the self-management skills of gay men living with HIV .\n",
            "METHODS\tThis study is designed as a randomised controlled trial in which men living with HIV in Australia will be assigned to either an intervention group or usual care control group .\n",
            "METHODS\tThe intervention group will participate in the online group program ` Positive Outlook ' .\n",
            "METHODS\tThe program is based on self-efficacy theory and uses a self-management approach to enhance skills , confidence and abilities to manage the psychosocial issues associated with HIV in daily life .\n",
            "METHODS\tParticipants will access the program for a minimum of 90 minutes per week over seven weeks .\n",
            "METHODS\tPrimary outcomes are domain specific self-efficacy , HIV related quality of life , and outcomes of health education .\n",
            "METHODS\tSecondary outcomes include : depression , anxiety and stress ; general health and quality of life ; adjustment to HIV ; and social support .\n",
            "METHODS\tData collection will take place at baseline , completion of the intervention ( or eight weeks post randomisation ) and at 12 week follow-up .\n",
            "CONCLUSIONS\tResults of the Positive Outlook study will provide information regarding the effectiveness of online group programs improving health related outcomes for men living with HIV .\n",
            "BACKGROUND\tACTRN12612000642886 .\n",
            "\n",
            "###20497432\n",
            "BACKGROUND\tThe aim of this study was to evaluate the efficacy , safety and complications of orbital steroid injection versus oral steroid therapy in the management of thyroid-related ophthalmopathy .\n",
            "METHODS\tA total of 29 patients suffering from thyroid ophthalmopathy were included in this study .\n",
            "METHODS\tPatients were randomized into two groups : group I included 15 patients treated with oral prednisolone and group II included 14 patients treated with peribulbar triamcinolone orbital injection .\n",
            "METHODS\tOnly 12 patients in both groups ( 16 female and 8 male ) completed the study .\n",
            "RESULTS\tBoth groups showed improvement in symptoms and in clinical evidence of inflammation with improvement of eye movement and proptosis in most cases .\n",
            "RESULTS\tMean exophthalmometry value before treatment was 22.6 1.98 mm that decreased to 18.6 0.996 mm in group I , compared with 23 1.86 mm that decreased to 19.08 1.16 mm in group II .\n",
            "RESULTS\tMean initial clinical activity score was 4.75 1.2 and 5 1.3 for group I and group II before treatment , respectively , which dropped to 0.83 1.2 and 0.83 1.02 , 6 months after treatment , respectively .\n",
            "RESULTS\tThere was no change in the best-corrected visual acuity in both groups .\n",
            "RESULTS\tThere was an increase in body weight , blood sugar , blood pressure and gastritis in group I in 66.7 % , 33.3 % , 50 % and 75 % , respectively , compared with 0 % , 0 % , 8.3 % and 8.3 % in group II .\n",
            "RESULTS\tNo adverse local side effects were observed in group II .\n",
            "CONCLUSIONS\tOrbital steroid injection for thyroid-related ophthalmopathy is effective and safe .\n",
            "CONCLUSIONS\tIt eliminates the adverse reactions associated with oral corticosteroid use .\n",
            "\n",
            "###19062107\n",
            "OBJECTIVE\tThe aim of this prospective randomized study was to examine whether active counseling and more liberal oral fluid intake decrease postoperative pain , nausea and vomiting in pediatric ambulatory tonsillectomy .\n",
            "METHODS\tFamilies , whose child was admitted for ambulatory tonsillectomy or adenotonsillectomy , were randomly assigned to the study groups ( n = 116 ; 58 families in each group ) .\n",
            "METHODS\tThe intervention group received the fasting instructions with face-to-face counseling for the child 's active preoperative nutrition , and the control group the fasting instructions according to the hospital 's standard procedure .\n",
            "METHODS\tThe level of postoperative pain and nausea was scored in the postanesthesia care unit ( PACU ) during the first postoperative hour , as well as at 2 , 4 , 8 and 24h postoperatively .\n",
            "METHODS\tThe first scoring in PACU was performed by the attending nurse with a 0-10 scale .\n",
            "METHODS\tThe rest of the estimations were made independently and simultaneously by the children using a VAS scale , and by the parents using a 0-10 scale .\n",
            "RESULTS\tThe children in the control group were in more pain in the PACU than the children in the intervention group , and the difference between the groups was statistically significant ( p = 0.0002 ) .\n",
            "RESULTS\tAll pain scores , according to the children and the parents , increased after the surgery .\n",
            "RESULTS\tIn both groups the highest score values were found at home 8h after surgery , and no significant difference was found between the study groups .\n",
            "RESULTS\tOn the first postoperative morning , the children in the control group were in pain ( p = 0.047 ) .\n",
            "RESULTS\tThe children did not have significant nausea in the PACU , but the nausea increased postoperatively .\n",
            "RESULTS\tFour hours after surgery the children were most nauseous according to all estimations ( 60 % , n = 116 ) .\n",
            "RESULTS\tMore than half of the children vomited and most vomited clotted blood .\n",
            "RESULTS\tNausea and vomiting decreased during the evening of the surgery , but six children vomited the next morning , four of them vomited blood .\n",
            "RESULTS\tThe incidence and intensity of postoperative nausea and vomiting between the intervention and control groups were not statistically significant .\n",
            "RESULTS\tHowever , preoperative nutritional counseling and more liberal per oral fluid intake appeared to have a positive effect on the children 's well-being and helped them to better tolerate postoperative nausea and vomiting .\n",
            "CONCLUSIONS\tThe preoperative counseling about active preoperative nutrition significantly reduces the child 's pain during the first posttonsillectomy hours and might prepare the child to better tolerate the stress of potential postoperative nausea and vomiting .\n",
            "\n",
            "###19769482\n",
            "OBJECTIVE\tTo explore the effects of GengNianLe ( GNL , also called perimenopausal depression relieving formula ) , a defined formula of Chinese medicinal herbs in relieving perimenopausal depression in Chinese women .\n",
            "METHODS\tBetween September 2004 and April 2008 , 47 Chinese women were randomized into a GNL group ( n = 21 ) and a control group which received tibolone ( n = 26 ) using a randomization chart .\n",
            "METHODS\tDepression was rated with the 24-item Hamilton Depression Scale ( HAMD ) .\n"
          ]
        }
      ]
    },
    {
      "cell_type": "markdown",
      "source": [
        "## 整理data"
      ],
      "metadata": {
        "id": "Uo0alrFDJwPR"
      }
    },
    {
      "cell_type": "code",
      "source": [
        "with open('train.txt') as f:\n",
        "  lines = f.readlines()"
      ],
      "metadata": {
        "id": "QobGwI5UJy0L"
      },
      "execution_count": null,
      "outputs": []
    },
    {
      "cell_type": "code",
      "source": [
        "articles = str(lines).split(\"###\")"
      ],
      "metadata": {
        "id": "-EGomwNZN1Eh"
      },
      "execution_count": null,
      "outputs": []
    },
    {
      "cell_type": "code",
      "source": [
        "for index,i in enumerate(articles):\n",
        "  print(i)\n",
        "  if index > 10:\n",
        "    break"
      ],
      "metadata": {
        "colab": {
          "base_uri": "https://localhost:8080/"
        },
        "id": "TLlvaRkhNNbC",
        "outputId": "11953964-5893-44b5-c137-d8af2a756f27"
      },
      "execution_count": null,
      "outputs": [
        {
          "output_type": "stream",
          "name": "stdout",
          "text": [
            "['\n",
            "24491034\\n', 'BACKGROUND\\tThe emergence of HIV as a chronic condition means that people living with HIV are required to take more responsibility for the self-management of their condition , including making physical , emotional and social adjustments .\\n', 'BACKGROUND\\tThis paper describes the design and evaluation of Positive Outlook , an online program aiming to enhance the self-management skills of gay men living with HIV .\\n', 'METHODS\\tThis study is designed as a randomised controlled trial in which men living with HIV in Australia will be assigned to either an intervention group or usual care control group .\\n', \"METHODS\\tThe intervention group will participate in the online group program ` Positive Outlook ' .\\n\", 'METHODS\\tThe program is based on self-efficacy theory and uses a self-management approach to enhance skills , confidence and abilities to manage the psychosocial issues associated with HIV in daily life .\\n', 'METHODS\\tParticipants will access the program for a minimum of 90 minutes per week over seven weeks .\\n', 'METHODS\\tPrimary outcomes are domain specific self-efficacy , HIV related quality of life , and outcomes of health education .\\n', 'METHODS\\tSecondary outcomes include : depression , anxiety and stress ; general health and quality of life ; adjustment to HIV ; and social support .\\n', 'METHODS\\tData collection will take place at baseline , completion of the intervention ( or eight weeks post randomisation ) and at 12 week follow-up .\\n', 'CONCLUSIONS\\tResults of the Positive Outlook study will provide information regarding the effectiveness of online group programs improving health related outcomes for men living with HIV .\\n', 'BACKGROUND\\tACTRN12612000642886 .\\n', '\\n', '\n",
            "20497432\\n', 'BACKGROUND\\tThe aim of this study was to evaluate the efficacy , safety and complications of orbital steroid injection versus oral steroid therapy in the management of thyroid-related ophthalmopathy .\\n', 'METHODS\\tA total of 29 patients suffering from thyroid ophthalmopathy were included in this study .\\n', 'METHODS\\tPatients were randomized into two groups : group I included 15 patients treated with oral prednisolone and group II included 14 patients treated with peribulbar triamcinolone orbital injection .\\n', 'METHODS\\tOnly 12 patients in both groups ( 16 female and 8 male ) completed the study .\\n', 'RESULTS\\tBoth groups showed improvement in symptoms and in clinical evidence of inflammation with improvement of eye movement and proptosis in most cases .\\n', 'RESULTS\\tMean exophthalmometry value before treatment was 22.6 1.98 mm that decreased to 18.6 0.996 mm in group I , compared with 23 1.86 mm that decreased to 19.08 1.16 mm in group II .\\n', 'RESULTS\\tMean initial clinical activity score was 4.75 1.2 and 5 1.3 for group I and group II before treatment , respectively , which dropped to 0.83 1.2 and 0.83 1.02 , 6 months after treatment , respectively .\\n', 'RESULTS\\tThere was no change in the best-corrected visual acuity in both groups .\\n', 'RESULTS\\tThere was an increase in body weight , blood sugar , blood pressure and gastritis in group I in 66.7 % , 33.3 % , 50 % and 75 % , respectively , compared with 0 % , 0 % , 8.3 % and 8.3 % in group II .\\n', 'RESULTS\\tNo adverse local side effects were observed in group II .\\n', 'CONCLUSIONS\\tOrbital steroid injection for thyroid-related ophthalmopathy is effective and safe .\\n', 'CONCLUSIONS\\tIt eliminates the adverse reactions associated with oral corticosteroid use .\\n', '\\n', '\n",
            "19062107\\n', 'OBJECTIVE\\tThe aim of this prospective randomized study was to examine whether active counseling and more liberal oral fluid intake decrease postoperative pain , nausea and vomiting in pediatric ambulatory tonsillectomy .\\n', 'METHODS\\tFamilies , whose child was admitted for ambulatory tonsillectomy or adenotonsillectomy , were randomly assigned to the study groups ( n = 116 ; 58 families in each group ) .\\n', \"METHODS\\tThe intervention group received the fasting instructions with face-to-face counseling for the child 's active preoperative nutrition , and the control group the fasting instructions according to the hospital 's standard procedure .\\n\", 'METHODS\\tThe level of postoperative pain and nausea was scored in the postanesthesia care unit ( PACU ) during the first postoperative hour , as well as at 2 , 4 , 8 and 24h postoperatively .\\n', 'METHODS\\tThe first scoring in PACU was performed by the attending nurse with a 0-10 scale .\\n', 'METHODS\\tThe rest of the estimations were made independently and simultaneously by the children using a VAS scale , and by the parents using a 0-10 scale .\\n', 'RESULTS\\tThe children in the control group were in more pain in the PACU than the children in the intervention group , and the difference between the groups was statistically significant ( p = 0.0002 ) .\\n', 'RESULTS\\tAll pain scores , according to the children and the parents , increased after the surgery .\\n', 'RESULTS\\tIn both groups the highest score values were found at home 8h after surgery , and no significant difference was found between the study groups .\\n', 'RESULTS\\tOn the first postoperative morning , the children in the control group were in pain ( p = 0.047 ) .\\n', 'RESULTS\\tThe children did not have significant nausea in the PACU , but the nausea increased postoperatively .\\n', 'RESULTS\\tFour hours after surgery the children were most nauseous according to all estimations ( 60 % , n = 116 ) .\\n', 'RESULTS\\tMore than half of the children vomited and most vomited clotted blood .\\n', 'RESULTS\\tNausea and vomiting decreased during the evening of the surgery , but six children vomited the next morning , four of them vomited blood .\\n', 'RESULTS\\tThe incidence and intensity of postoperative nausea and vomiting between the intervention and control groups were not statistically significant .\\n', \"RESULTS\\tHowever , preoperative nutritional counseling and more liberal per oral fluid intake appeared to have a positive effect on the children 's well-being and helped them to better tolerate postoperative nausea and vomiting .\\n\", \"CONCLUSIONS\\tThe preoperative counseling about active preoperative nutrition significantly reduces the child 's pain during the first posttonsillectomy hours and might prepare the child to better tolerate the stress of potential postoperative nausea and vomiting .\\n\", '\\n', '\n",
            "19769482\\n', 'OBJECTIVE\\tTo explore the effects of GengNianLe ( GNL , also called perimenopausal depression relieving formula ) , a defined formula of Chinese medicinal herbs in relieving perimenopausal depression in Chinese women .\\n', 'METHODS\\tBetween September 2004 and April 2008 , 47 Chinese women were randomized into a GNL group ( n = 21 ) and a control group which received tibolone ( n = 26 ) using a randomization chart .\\n', 'METHODS\\tDepression was rated with the 24-item Hamilton Depression Scale ( HAMD ) .\\n', 'METHODS\\tThe serum levels of follicle stimulating hormone ( FSH ) , luteinizing hormone ( LH ) , and estradiol ( E ( 2 ) ) were detected before and after the treatment .\\n', 'RESULTS\\tAfter 12 weeks of treatment , HAMD scores in both groups decreased significantly ( p < 0.05 ) with no significant difference between the groups ( p > 0.05 ) .\\n', 'RESULTS\\tThe levels of FSH decreased significantly and the level of E ( 2 ) increased significantly in both groups , and they changed more in the control group .\\n', 'RESULTS\\tNo side-effect of treatment was reported in either group during treatment .\\n', 'CONCLUSIONS\\tThe Chinese medicinal formula GNL showed promise in relieving perimenopausal depression and merits further study .\\n', '\\n', '\n",
            "26077436\\n', 'BACKGROUND\\tTopical formulations of nonsteroidal anti-inflammatory drugs ( NSAIDs ) are generally considered to be safer alternatives to oral NSAIDs due to lower systemic absorption .\\n', 'BACKGROUND\\tWe conducted randomized , crossover studies that compared the pharmacokinetics ( PK ) , bioequivalence and safety of topical diclofenac sodium 2 % twice daily ( BID ) , diclofenac sodium 1.5 % four times daily ( QID ) and oral diclofenac sodium in healthy subjects .\\n', 'METHODS\\tThe results of three bioequivalence studies are reviewed .\\n', 'METHODS\\tHealthy adult subjects ( n = 76 ) applied topical diclofenac sodium 2 % solution ( 40.4 mg/2 mL ) BID ; or 1.5 % solution ( 19.3 mg/40 drops ) QID to each knee for 7.5 consecutive days separated by a washout period .\\n', 'METHODS\\tSubjects ( n = 22 ) in one study also received oral diclofenac sodium 75 mg BID for 7.5 days .\\n', 'METHODS\\tPlasma diclofenac concentrations were determined from serial blood samples collected on Days 1 and 8 ( steady state ) , and diclofenac PK parameters were estimated by noncompartmental methods .\\n', 'RESULTS\\tThe studies demonstrated comparable bioequivalence between the 2 % and 1.5 % topical solutions as well as lower systemic exposure compared to oral dosing ( approximately 93 % less ) .\\n', 'RESULTS\\tDaily systemic exposure was comparable between the two formulations with only a 12 % difference in the AUCss ( 0-24 ) ( p = 0.140 ) .\\n', 'RESULTS\\tFurthermore , both topical solutions demonstrated delayed elimination with a t ( 1/2 ) of 4 - to 6-fold longer , as compared to oral diclofenac .\\n', 'RESULTS\\tThe 2 % solution provided more consistent dosing relative to the 1.5 % solution when comparing AUCss ( 0-24 ) and Cmaxss across studies .\\n', 'RESULTS\\tMild application site reactions were the most common treatment-emergent adverse event reported with topical diclofenac .\\n', 'CONCLUSIONS\\tThe steady-state PK profile of topical diclofenac 2 % solution administered BID is similar to that of the 1.5 % solution administered QID .\\n', 'CONCLUSIONS\\tSystemic exposure to diclofenac is substantially lower after topical application as compared to oral administration .\\n', 'CONCLUSIONS\\t( Study 2 was registered with ClinicalTrials.gov ; NCT01202799 ; https://clinicaltrials.gov/ct2/results?term=01202799&Search=Search ) .\\n', '\\n', '\n",
            "20656965\\n', 'BACKGROUND\\tNo long-term studies have been reported on the effect of training programs on driving after stroke .\\n', \"OBJECTIVE\\tThe authors ' primary aim was to determine the effect of simulator versus cognitive rehabilitation therapy on fitness-to-drive at 5 years poststroke .\\n\", 'OBJECTIVE\\tA second aim was to investigate differences in clinical characteristics between stroke survivors who resumed and stopped driving .\\n', 'METHODS\\tIn a previously reported randomized controlled trial , 83 stroke survivors received 15 hours of simulator training ( n = 42 ) or cognitive therapy ( n = 41 ) .\\n', 'METHODS\\tIn this 5-year follow-up study , 61 participants were reassessed .\\n', 'METHODS\\tFitness-to-drive decisions were obtained from medical , visual , neuropsychological , and on-road tests ; 44 participants ( simulator group , n = 21 ; cognitive group , n = 23 ) completed all assessments .\\n', 'METHODS\\tThe primary outcome measures were fitness-to-drive decision and current driving status .\\n', 'RESULTS\\tThe authors found that 5 years after stroke , 18 of 30 participants ( 60 % ) in the simulator group were considered fit to drive , compared with 15 of 31 ( 48 % ) in the cognitive group ( P = .36 ) ; 34 of 61 ( 56 % ) participants were driving .\\n', 'RESULTS\\tCurrent drivers were younger ( P = .04 ) , had higher Barthel scores ( P = .008 ) , had less comorbidity ( P = .01 ) , and were less severely depressed ( P = .02 ) than those who gave up driving .\\n', 'CONCLUSIONS\\tThe advantage of simulator-based driving training over cognitive rehabilitation therapy , evident at 6 months poststroke , had faded 5 years later .\\n', 'CONCLUSIONS\\tPoststroke drivers were younger and less severely affected and depressed than nondrivers .\\n', '\\n', '\n",
            "17889242\\n', 'BACKGROUND\\tThe potential of insecticide-treated bednets ( ITNs ) to contribute to child survival has been well documented in randomised controlled trials .\\n', 'BACKGROUND\\tITN coverage has increased rapidly in Kenya from 7 % in 2004 to 67 % in 2006 .\\n', 'BACKGROUND\\tWe aimed to assess the extent to which this investment has led to improvements in child survival .\\n', 'METHODS\\tA dynamic cohort of about 3500 children aged 1-59 months were enumerated three times at yearly intervals in 72 rural clusters located in four districts of Kenya .\\n', 'METHODS\\tThe effect of ITN use on mortality was assessed with Poisson regression to take account of potential effect-modifying and confounding covariates .\\n', 'RESULTS\\t100 children died over 2 years .\\n', 'RESULTS\\tOverall mortality rates were much the same in the first and second years of the study ( 14.5 per 1000 person-years in the first year and 15.4 per 1000 person-years in the second ) .\\n', 'RESULTS\\tAfter adjustment for age , time period , and a number of other possible confounding variables , ITN use was associated with a 44 % reduction in mortality ( mortality rate ratio 0.56 , 95 % CI 0.33-0 .96 ; p = 0.04 ) .\\n', 'RESULTS\\tThis level of protection corresponds to about seven deaths averted for every 1000 ITNs distributed .\\n', 'CONCLUSIONS\\tA combined approach of social marketing followed by mass free distribution of ITNs translated into child survival effects that are comparable with those seen in previous randomised controlled trials .\\n', '\\n', '\n",
            "23615091\\n', 'BACKGROUND\\tCortical stimulation mapping ( CSM ) commonly uses visual naming to determine resection margins in the dominant hemisphere of patients with epilepsy .\\n', 'BACKGROUND\\tVisual naming alone may not identify all language sites in resection-prone areas , prompting additional tasks for comprehensive language mapping .\\n', 'OBJECTIVE\\tTo demonstrate word-finding distinctions between visual , auditory , and reading modalities during CSM and the percentage of modality-specific language sites within dominant hemisphere subregions .\\n', 'METHODS\\tTwenty-eight patients with epilepsy underwent CSM by the use of visual , auditory , and sentence-completion tasks .\\n', 'METHODS\\tHierarchical logistic regression analyzed errors to identify language sites and provide modality-specific percentages within subregions .\\n', 'RESULTS\\tThe percentage of sites classified as language sites based on auditory naming was twice as high in anterior temporal regions compared with visual naming , marginally higher in posterior temporal areas , and comparable in parietal regions .\\n', 'RESULTS\\tSentence completion was comparable to visual and auditory naming in parietal regions and lower in most temporal areas .\\n', 'RESULTS\\tOf 470 sites tested with both visual and auditory naming , 95 sites were distinctly auditory , whereas 48 sites were distinctly visual .\\n', 'RESULTS\\tThe remaining sites overlapped .\\n', 'CONCLUSIONS\\tDistinct cortical areas were found for distinct input modalities , with language sites in anterior tip regions found most often by using auditory naming .\\n', 'CONCLUSIONS\\tThe vulnerability of anterior temporal tip regions to resection in this population and distinct sites for each modality suggest that a multimodality approach may be needed to spare crucial language sites , if sparing those sites can be shown to significantly reduce the rate of postoperative language deficits without sacrificing seizure control .\\n', '\\n', '\n",
            "8532270\\n', 'OBJECTIVE\\tTo determine if suppressive acyclovir therapy given to term gravidas experiencing a first episode of genital herpes simplex virus ( HSV ) - infection during pregnancy decreases the need for cesarean delivery for that indication .\\n', \"METHODS\\tForty-six pregnant women with first episodes of genital herpes during pregnancy were randomly assigned to receive oral acyclovir 400 mg or placebo , three times per day , from 36 weeks ' gestation until delivery as part of a prospective , double-blind trial .\\n\", 'METHODS\\tHerpes simplex virus cultures were obtained when patients presented for delivery .\\n', 'METHODS\\tVaginal delivery was permitted if no clinical recurrence was present ; otherwise , a cesarean was performed .\\n', 'METHODS\\tNeonatal HSV cultures were obtained and infants were followed-up clinically .\\n', 'RESULTS\\tNone of the 21 patients treated with acyclovir and nine of 25 ( 36 % ) treated with placebo had clinical evidence of recurrent genital herpes at delivery ( odds ratio [ OR ] 0.04 , 95 % confidence interval [ CI ] 0.002-0 .745 ; P = .002 ) .\\n', 'RESULTS\\tNo woman treated with acyclovir had a cesarean for herpes , compared with nine of 25 ( 36 % ) of those treated with placebo ( OR 0.04 , CI 0.002-0 .745 ; P = .002 ) .\\n', 'RESULTS\\tNo patient in either treatment group experienced asymptomatic genital viral shedding at delivery .\\n', 'RESULTS\\tNo neonate had evidence of herpes infection or adverse effects from acyclovir .\\n', 'CONCLUSIONS\\tSuppressive acyclovir therapy reduced the need for cesarean for recurrent herpes in women whose first clinical episode of genital HSV occurred during pregnancy .\\n', 'CONCLUSIONS\\tSuppressive acyclovir treatment did not increase asymptomatic viral shedding and was not harmful to the term fetus .\\n', '\\n', '\n",
            "1458072\\n', 'OBJECTIVE\\tTo compare the tolerance , efficacy , and pharmacokinetics of amphotericin deoxycholate ( Fungizone ) prepared in a parenteral fat emulsion ( Intralipid 20 % ) or glucose in HIV patients with candidiasis .\\n', 'METHODS\\tNon-blind randomised controlled trial .\\n', 'METHODS\\tUniversity hospital ; tertiary clinical care .\\n', 'METHODS\\t22 HIV positive patients with oral candidiasis .\\n', 'METHODS\\tAmphotericin 1 mg/kg/day given on four consecutive days as a one hour infusion dissolved in either 5 % glucose ( amphotericin-glucose ) or parenteral fat emulsion at a final concentration of 2 g/l fat emulsion ( amphotericin-fat emulsion ) .\\n', 'METHODS\\tClinical tolerance ( fever , chills , sweats , nausea , arterial pressure , and pulse rate ) ; biological tolerance ( serum creatinine , electrolyte , and magnesium values ) ; clinical score of candidiasis ; and serum concentrations of amphotericin .\\n', 'RESULTS\\t11 patients were enrolled in each group .\\n', 'RESULTS\\tAll the amphotericin-fat emulsion infusions were given without serious problem whereas four amphotericin-glucose infusions were stopped because of renal impairment ( n = 3 ) or severe chills ( n = 2 ) , or both .\\n', 'RESULTS\\tFor patients completing the amphotericin-glucose treatment creatine concentration increased by 42 mumol/l ; four of seven patients had at least one creatinine value > or = 133 mumol/l versus one of 11 receiving amphotericin-fat emulsion .\\n', 'RESULTS\\tMagnesium concentration fell significantly with amphotericin-glucose but not with amphotericin-fat emulsion .\\n', 'RESULTS\\tClinical side effects were noted in 36/38 infusions with amphotericin-glucose but 10/44 with amphotericin-fat emulsion .\\n', 'RESULTS\\tOral candidiasis score was reduced similarly in both groups .\\n', 'RESULTS\\tSerum amphotericin concentrations were significantly lower and the volume of distribution of the drug higher after infusion of amphotericin-fat emulsion than after amphotericin-glucose .\\n', 'CONCLUSIONS\\tClinical and renal toxicity of amphotericin are reduced when the drug is prepared in fat emulsion .\\n', 'CONCLUSIONS\\tPreparation is simple and cost effective .\\n', 'CONCLUSIONS\\tIts efficacy is similar to that of conventional amphotericin .\\n', '\\n', '\n",
            "24135831\\n', 'OBJECTIVE\\tRate control of atrial fibrillation ( AF ) has become a main treatment modality , but we need more knowledge regarding the different drugs used for this purpose .\\n', 'OBJECTIVE\\tIn this study , we aimed to compare the effect of four common rate-reducing drugs on exercise capacity and levels of N-terminal pro-B-type natriuretic peptide ( NT-proBNP ) in patients with permanent AF .\\n', 'RESULTS\\tWe included 60 patients ( mean age 71 9 years , 18 women ) with permanent AF and normal left ventricular function in a randomized , cross-over , investigator-blind study .\\n', 'RESULTS\\tDiltiazem 360 mg , verapamil 240 mg , metoprolol 100 mg , and carvedilol 25 mg were administered o.d. for 3 weeks .\\n', 'RESULTS\\tAt baseline and on the last day of each treatment period , the patients underwent a maximal cardiopulmonary exercise test and blood samples were obtained at rest and at peak exercise .\\n', 'RESULTS\\tThe exercise capacity ( peak VO2 ) was significantly lower during treatment with metoprolol and carvedilol compared with baseline ( no treatment ) or treatment with diltiazem and verapamil ( P < 0.001 for all ) .\\n', 'RESULTS\\tCompared with baseline , treatment with diltiazem and verapamil significantly reduced the NT-proBNP levels both at rest and at peak exercise , whereas treatment with metoprolol and carvedilol increased the levels ( P < 0.05 for all ) .\\n', 'CONCLUSIONS\\tRate-reducing treatment with diltiazem or verapamil preserved exercise capacity and reduced levels of NT-proBNP compared with baseline , whereas treatment with metoprolol or carvedilol reduced the exercise capacity and increased levels of NT-proBNP .\\n', '\\n', '\n"
          ]
        }
      ]
    },
    {
      "cell_type": "code",
      "source": [
        "json_list = []\n",
        "for article in articles[1:]:\n",
        "  doc = article.replace(\"\\\\n\", \"\") \\\n",
        "      .replace(\"BACKGROUND\\\\t\", \"\") \\\n",
        "      .replace(\"METHODS\\\\t\", \"\") \\\n",
        "      .replace(\"CONCLUSIONS\\\\t\", \"\") \\\n",
        "      .replace(\"OBJECTIVE\\\\t\", \"\") \\\n",
        "      .replace(\"RESULTS\\\\t\", \"\")\n",
        "  # print(doc)\n",
        "  id_content = doc.replace(\"',\", \"\").replace(\"'\", \"\")\n",
        "  # print(id_content)\n",
        "  final_id_content = id_content.split(\" \",1)\n",
        "  id = final_id_content[0]\n",
        "  content = final_id_content[1]\n",
        "  # print(\"id:\"+str(id))\n",
        "  # print(\"con:\"+str(content))\n",
        "  clean_data = {\"id\": str(id), \"contents\": str(content)}\n",
        "  json_list.append(clean_data)"
      ],
      "metadata": {
        "id": "vvhd14XVKWn0"
      },
      "execution_count": null,
      "outputs": []
    },
    {
      "cell_type": "code",
      "source": [
        "print(len(json_list))"
      ],
      "metadata": {
        "colab": {
          "base_uri": "https://localhost:8080/"
        },
        "id": "ZIc_AAePLN_2",
        "outputId": "a2f4ef3d-c6ee-4bdc-9e3a-3979a783c042"
      },
      "execution_count": null,
      "outputs": [
        {
          "output_type": "stream",
          "name": "stdout",
          "text": [
            "190657\n"
          ]
        }
      ]
    },
    {
      "cell_type": "code",
      "source": [
        "!mkdir id_con_data"
      ],
      "metadata": {
        "colab": {
          "base_uri": "https://localhost:8080/"
        },
        "id": "zTqSjMqIYTqh",
        "outputId": "95fbaca3-60db-4fb3-f8cd-b6e73f557a3e"
      },
      "execution_count": null,
      "outputs": [
        {
          "output_type": "stream",
          "name": "stdout",
          "text": [
            "mkdir: cannot create directory ‘id_con_data’: File exists\n"
          ]
        }
      ]
    },
    {
      "cell_type": "code",
      "source": [
        "!ls"
      ],
      "metadata": {
        "colab": {
          "base_uri": "https://localhost:8080/"
        },
        "id": "gvy9EHu5Y2D3",
        "outputId": "621a06af-717c-4b8e-b781-adaa12f1c67d"
      },
      "execution_count": null,
      "outputs": [
        {
          "output_type": "stream",
          "name": "stdout",
          "text": [
            "id_con_data  indexes  sample_data  train.txt\n"
          ]
        }
      ]
    },
    {
      "cell_type": "code",
      "source": [
        "import json\n",
        "with open(\"id_con_data/document.json\", \"w\") as d:\n",
        "  json.dump(json_list, d)"
      ],
      "metadata": {
        "id": "JRz5U2zNXDeR"
      },
      "execution_count": null,
      "outputs": []
    },
    {
      "cell_type": "markdown",
      "source": [
        "## 建立字典"
      ],
      "metadata": {
        "id": "wopB7r9eW4t6"
      }
    },
    {
      "cell_type": "code",
      "source": [
        "!pip install pyserini"
      ],
      "metadata": {
        "colab": {
          "base_uri": "https://localhost:8080/"
        },
        "id": "BCTiVtCRYAl7",
        "outputId": "59863851-5b2a-4f16-b949-0fae9d8819ae"
      },
      "execution_count": null,
      "outputs": [
        {
          "output_type": "stream",
          "name": "stdout",
          "text": [
            "Looking in indexes: https://pypi.org/simple, https://us-python.pkg.dev/colab-wheels/public/simple/\n",
            "Collecting pyserini\n",
            "  Downloading pyserini-0.18.0-py3-none-any.whl (114.8 MB)\n",
            "\u001b[K     |████████████████████████████████| 114.8 MB 79 kB/s \n",
            "\u001b[?25hRequirement already satisfied: tqdm in /usr/local/lib/python3.7/dist-packages (from pyserini) (4.64.1)\n",
            "Requirement already satisfied: scikit-learn>=0.22.1 in /usr/local/lib/python3.7/dist-packages (from pyserini) (1.0.2)\n",
            "Requirement already satisfied: spacy>=3.2.1 in /usr/local/lib/python3.7/dist-packages (from pyserini) (3.4.1)\n",
            "Requirement already satisfied: scipy>=1.4.1 in /usr/local/lib/python3.7/dist-packages (from pyserini) (1.7.3)\n",
            "Requirement already satisfied: pandas>=1.1.5 in /usr/local/lib/python3.7/dist-packages (from pyserini) (1.3.5)\n",
            "Collecting sentencepiece>=0.1.95\n",
            "  Downloading sentencepiece-0.1.97-cp37-cp37m-manylinux_2_17_x86_64.manylinux2014_x86_64.whl (1.3 MB)\n",
            "\u001b[K     |████████████████████████████████| 1.3 MB 41.2 MB/s \n",
            "\u001b[?25hRequirement already satisfied: numpy>=1.18.1 in /usr/local/lib/python3.7/dist-packages (from pyserini) (1.21.6)\n",
            "Collecting pyjnius>=1.4.0\n",
            "  Downloading pyjnius-1.4.2-cp37-cp37m-manylinux_2_17_x86_64.manylinux2014_x86_64.whl (1.3 MB)\n",
            "\u001b[K     |████████████████████████████████| 1.3 MB 56.6 MB/s \n",
            "\u001b[?25hCollecting nmslib>=2.1.1\n",
            "  Downloading nmslib-2.1.1-cp37-cp37m-manylinux2010_x86_64.whl (13.5 MB)\n",
            "\u001b[K     |████████████████████████████████| 13.5 MB 28.6 MB/s \n",
            "\u001b[?25hCollecting onnxruntime>=1.8.1\n",
            "  Downloading onnxruntime-1.12.1-cp37-cp37m-manylinux_2_27_x86_64.whl (4.9 MB)\n",
            "\u001b[K     |████████████████████████████████| 4.9 MB 40.8 MB/s \n",
            "\u001b[?25hCollecting lightgbm>=3.3.2\n",
            "  Downloading lightgbm-3.3.3-py3-none-manylinux1_x86_64.whl (2.0 MB)\n",
            "\u001b[K     |████████████████████████████████| 2.0 MB 51.3 MB/s \n",
            "\u001b[?25hCollecting transformers>=4.6.0\n",
            "  Downloading transformers-4.23.1-py3-none-any.whl (5.3 MB)\n",
            "\u001b[K     |████████████████████████████████| 5.3 MB 39.9 MB/s \n",
            "\u001b[?25hRequirement already satisfied: Cython>=0.29.21 in /usr/local/lib/python3.7/dist-packages (from pyserini) (0.29.32)\n",
            "Requirement already satisfied: wheel in /usr/local/lib/python3.7/dist-packages (from lightgbm>=3.3.2->pyserini) (0.37.1)\n",
            "Collecting pybind11<2.6.2\n",
            "  Downloading pybind11-2.6.1-py2.py3-none-any.whl (188 kB)\n",
            "\u001b[K     |████████████████████████████████| 188 kB 45.8 MB/s \n",
            "\u001b[?25hRequirement already satisfied: psutil in /usr/local/lib/python3.7/dist-packages (from nmslib>=2.1.1->pyserini) (5.4.8)\n",
            "Requirement already satisfied: packaging in /usr/local/lib/python3.7/dist-packages (from onnxruntime>=1.8.1->pyserini) (21.3)\n",
            "Requirement already satisfied: protobuf in /usr/local/lib/python3.7/dist-packages (from onnxruntime>=1.8.1->pyserini) (3.17.3)\n",
            "Requirement already satisfied: sympy in /usr/local/lib/python3.7/dist-packages (from onnxruntime>=1.8.1->pyserini) (1.7.1)\n",
            "Requirement already satisfied: flatbuffers in /usr/local/lib/python3.7/dist-packages (from onnxruntime>=1.8.1->pyserini) (22.9.24)\n",
            "Collecting coloredlogs\n",
            "  Downloading coloredlogs-15.0.1-py2.py3-none-any.whl (46 kB)\n",
            "\u001b[K     |████████████████████████████████| 46 kB 3.1 MB/s \n",
            "\u001b[?25hRequirement already satisfied: python-dateutil>=2.7.3 in /usr/local/lib/python3.7/dist-packages (from pandas>=1.1.5->pyserini) (2.8.2)\n",
            "Requirement already satisfied: pytz>=2017.3 in /usr/local/lib/python3.7/dist-packages (from pandas>=1.1.5->pyserini) (2022.4)\n",
            "Requirement already satisfied: six>=1.7.0 in /usr/local/lib/python3.7/dist-packages (from pyjnius>=1.4.0->pyserini) (1.15.0)\n",
            "Requirement already satisfied: joblib>=0.11 in /usr/local/lib/python3.7/dist-packages (from scikit-learn>=0.22.1->pyserini) (1.2.0)\n",
            "Requirement already satisfied: threadpoolctl>=2.0.0 in /usr/local/lib/python3.7/dist-packages (from scikit-learn>=0.22.1->pyserini) (3.1.0)\n",
            "Requirement already satisfied: typer<0.5.0,>=0.3.0 in /usr/local/lib/python3.7/dist-packages (from spacy>=3.2.1->pyserini) (0.4.2)\n",
            "Requirement already satisfied: thinc<8.2.0,>=8.1.0 in /usr/local/lib/python3.7/dist-packages (from spacy>=3.2.1->pyserini) (8.1.2)\n",
            "Requirement already satisfied: requests<3.0.0,>=2.13.0 in /usr/local/lib/python3.7/dist-packages (from spacy>=3.2.1->pyserini) (2.23.0)\n",
            "Requirement already satisfied: langcodes<4.0.0,>=3.2.0 in /usr/local/lib/python3.7/dist-packages (from spacy>=3.2.1->pyserini) (3.3.0)\n",
            "Requirement already satisfied: preshed<3.1.0,>=3.0.2 in /usr/local/lib/python3.7/dist-packages (from spacy>=3.2.1->pyserini) (3.0.7)\n",
            "Requirement already satisfied: murmurhash<1.1.0,>=0.28.0 in /usr/local/lib/python3.7/dist-packages (from spacy>=3.2.1->pyserini) (1.0.8)\n",
            "Requirement already satisfied: cymem<2.1.0,>=2.0.2 in /usr/local/lib/python3.7/dist-packages (from spacy>=3.2.1->pyserini) (2.0.6)\n",
            "Requirement already satisfied: catalogue<2.1.0,>=2.0.6 in /usr/local/lib/python3.7/dist-packages (from spacy>=3.2.1->pyserini) (2.0.8)\n",
            "Requirement already satisfied: srsly<3.0.0,>=2.4.3 in /usr/local/lib/python3.7/dist-packages (from spacy>=3.2.1->pyserini) (2.4.4)\n",
            "Requirement already satisfied: pydantic!=1.8,!=1.8.1,<1.10.0,>=1.7.4 in /usr/local/lib/python3.7/dist-packages (from spacy>=3.2.1->pyserini) (1.9.2)\n",
            "Requirement already satisfied: jinja2 in /usr/local/lib/python3.7/dist-packages (from spacy>=3.2.1->pyserini) (2.11.3)\n",
            "Requirement already satisfied: setuptools in /usr/local/lib/python3.7/dist-packages (from spacy>=3.2.1->pyserini) (57.4.0)\n",
            "Requirement already satisfied: wasabi<1.1.0,>=0.9.1 in /usr/local/lib/python3.7/dist-packages (from spacy>=3.2.1->pyserini) (0.10.1)\n",
            "Requirement already satisfied: typing-extensions<4.2.0,>=3.7.4 in /usr/local/lib/python3.7/dist-packages (from spacy>=3.2.1->pyserini) (4.1.1)\n",
            "Requirement already satisfied: spacy-loggers<2.0.0,>=1.0.0 in /usr/local/lib/python3.7/dist-packages (from spacy>=3.2.1->pyserini) (1.0.3)\n",
            "Requirement already satisfied: pathy>=0.3.5 in /usr/local/lib/python3.7/dist-packages (from spacy>=3.2.1->pyserini) (0.6.2)\n",
            "Requirement already satisfied: spacy-legacy<3.1.0,>=3.0.9 in /usr/local/lib/python3.7/dist-packages (from spacy>=3.2.1->pyserini) (3.0.10)\n",
            "Requirement already satisfied: zipp>=0.5 in /usr/local/lib/python3.7/dist-packages (from catalogue<2.1.0,>=2.0.6->spacy>=3.2.1->pyserini) (3.8.1)\n",
            "Requirement already satisfied: pyparsing!=3.0.5,>=2.0.2 in /usr/local/lib/python3.7/dist-packages (from packaging->onnxruntime>=1.8.1->pyserini) (3.0.9)\n",
            "Requirement already satisfied: smart-open<6.0.0,>=5.2.1 in /usr/local/lib/python3.7/dist-packages (from pathy>=0.3.5->spacy>=3.2.1->pyserini) (5.2.1)\n",
            "Requirement already satisfied: idna<3,>=2.5 in /usr/local/lib/python3.7/dist-packages (from requests<3.0.0,>=2.13.0->spacy>=3.2.1->pyserini) (2.10)\n",
            "Requirement already satisfied: chardet<4,>=3.0.2 in /usr/local/lib/python3.7/dist-packages (from requests<3.0.0,>=2.13.0->spacy>=3.2.1->pyserini) (3.0.4)\n",
            "Requirement already satisfied: urllib3!=1.25.0,!=1.25.1,<1.26,>=1.21.1 in /usr/local/lib/python3.7/dist-packages (from requests<3.0.0,>=2.13.0->spacy>=3.2.1->pyserini) (1.24.3)\n",
            "Requirement already satisfied: certifi>=2017.4.17 in /usr/local/lib/python3.7/dist-packages (from requests<3.0.0,>=2.13.0->spacy>=3.2.1->pyserini) (2022.9.24)\n",
            "Requirement already satisfied: blis<0.8.0,>=0.7.8 in /usr/local/lib/python3.7/dist-packages (from thinc<8.2.0,>=8.1.0->spacy>=3.2.1->pyserini) (0.7.8)\n",
            "Requirement already satisfied: confection<1.0.0,>=0.0.1 in /usr/local/lib/python3.7/dist-packages (from thinc<8.2.0,>=8.1.0->spacy>=3.2.1->pyserini) (0.0.2)\n",
            "Requirement already satisfied: regex!=2019.12.17 in /usr/local/lib/python3.7/dist-packages (from transformers>=4.6.0->pyserini) (2022.6.2)\n",
            "Requirement already satisfied: importlib-metadata in /usr/local/lib/python3.7/dist-packages (from transformers>=4.6.0->pyserini) (5.0.0)\n",
            "Requirement already satisfied: filelock in /usr/local/lib/python3.7/dist-packages (from transformers>=4.6.0->pyserini) (3.8.0)\n",
            "Collecting tokenizers!=0.11.3,<0.14,>=0.11.1\n",
            "  Downloading tokenizers-0.13.1-cp37-cp37m-manylinux_2_17_x86_64.manylinux2014_x86_64.whl (7.6 MB)\n",
            "\u001b[K     |████████████████████████████████| 7.6 MB 40.9 MB/s \n",
            "\u001b[?25hRequirement already satisfied: pyyaml>=5.1 in /usr/local/lib/python3.7/dist-packages (from transformers>=4.6.0->pyserini) (6.0)\n",
            "Collecting huggingface-hub<1.0,>=0.10.0\n",
            "  Downloading huggingface_hub-0.10.1-py3-none-any.whl (163 kB)\n",
            "\u001b[K     |████████████████████████████████| 163 kB 68.2 MB/s \n",
            "\u001b[?25hRequirement already satisfied: click<9.0.0,>=7.1.1 in /usr/local/lib/python3.7/dist-packages (from typer<0.5.0,>=0.3.0->spacy>=3.2.1->pyserini) (7.1.2)\n",
            "Collecting humanfriendly>=9.1\n",
            "  Downloading humanfriendly-10.0-py2.py3-none-any.whl (86 kB)\n",
            "\u001b[K     |████████████████████████████████| 86 kB 4.9 MB/s \n",
            "\u001b[?25hRequirement already satisfied: MarkupSafe>=0.23 in /usr/local/lib/python3.7/dist-packages (from jinja2->spacy>=3.2.1->pyserini) (2.0.1)\n",
            "Requirement already satisfied: mpmath>=0.19 in /usr/local/lib/python3.7/dist-packages (from sympy->onnxruntime>=1.8.1->pyserini) (1.2.1)\n",
            "Installing collected packages: humanfriendly, tokenizers, pybind11, huggingface-hub, coloredlogs, transformers, sentencepiece, pyjnius, onnxruntime, nmslib, lightgbm, pyserini\n",
            "  Attempting uninstall: lightgbm\n",
            "    Found existing installation: lightgbm 2.2.3\n",
            "    Uninstalling lightgbm-2.2.3:\n",
            "      Successfully uninstalled lightgbm-2.2.3\n",
            "Successfully installed coloredlogs-15.0.1 huggingface-hub-0.10.1 humanfriendly-10.0 lightgbm-3.3.3 nmslib-2.1.1 onnxruntime-1.12.1 pybind11-2.6.1 pyjnius-1.4.2 pyserini-0.18.0 sentencepiece-0.1.97 tokenizers-0.13.1 transformers-4.23.1\n"
          ]
        }
      ]
    },
    {
      "cell_type": "code",
      "source": [
        "!python -m pyserini.index.lucene \\\n",
        "  --collection JsonCollection \\\n",
        "  --input id_con_data \\\n",
        "  --index indexes/sample_collection_jsonl \\\n",
        "  --generator DefaultLuceneDocumentGenerator \\\n",
        "  --threads 1 \\\n",
        "  --storePositions --storeDocvectors --storeRaw"
      ],
      "metadata": {
        "colab": {
          "base_uri": "https://localhost:8080/"
        },
        "id": "L0P8GqPBW4NE",
        "outputId": "9741093b-ac25-4f8d-d442-d8c89c9f2ba3"
      },
      "execution_count": null,
      "outputs": [
        {
          "output_type": "stream",
          "name": "stdout",
          "text": [
            "WARNING: sun.reflect.Reflection.getCallerClass is not supported. This will impact performance.\n",
            "2022-10-12 10:48:03,478 INFO  [main] index.IndexCollection (IndexCollection.java:248) - Setting log level to INFO\n",
            "2022-10-12 10:48:03,482 INFO  [main] index.IndexCollection (IndexCollection.java:251) - Starting indexer...\n",
            "2022-10-12 10:48:03,482 INFO  [main] index.IndexCollection (IndexCollection.java:252) - ============ Loading Parameters ============\n",
            "2022-10-12 10:48:03,483 INFO  [main] index.IndexCollection (IndexCollection.java:253) - DocumentCollection path: id_con_data\n",
            "2022-10-12 10:48:03,483 INFO  [main] index.IndexCollection (IndexCollection.java:254) - CollectionClass: JsonCollection\n",
            "2022-10-12 10:48:03,484 INFO  [main] index.IndexCollection (IndexCollection.java:255) - Generator: DefaultLuceneDocumentGenerator\n",
            "2022-10-12 10:48:03,485 INFO  [main] index.IndexCollection (IndexCollection.java:256) - Threads: 1\n",
            "2022-10-12 10:48:03,486 INFO  [main] index.IndexCollection (IndexCollection.java:257) - Language: en\n",
            "2022-10-12 10:48:03,488 INFO  [main] index.IndexCollection (IndexCollection.java:258) - Stemmer: porter\n",
            "2022-10-12 10:48:03,488 INFO  [main] index.IndexCollection (IndexCollection.java:259) - Keep stopwords? false\n",
            "2022-10-12 10:48:03,489 INFO  [main] index.IndexCollection (IndexCollection.java:260) - Stopwords: null\n",
            "2022-10-12 10:48:03,489 INFO  [main] index.IndexCollection (IndexCollection.java:261) - Store positions? true\n",
            "2022-10-12 10:48:03,490 INFO  [main] index.IndexCollection (IndexCollection.java:262) - Store docvectors? true\n",
            "2022-10-12 10:48:03,490 INFO  [main] index.IndexCollection (IndexCollection.java:263) - Store document \"contents\" field? false\n",
            "2022-10-12 10:48:03,492 INFO  [main] index.IndexCollection (IndexCollection.java:264) - Store document \"raw\" field? true\n",
            "2022-10-12 10:48:03,493 INFO  [main] index.IndexCollection (IndexCollection.java:265) - Additional fields to index: []\n",
            "2022-10-12 10:48:03,494 INFO  [main] index.IndexCollection (IndexCollection.java:266) - Optimize (merge segments)? false\n",
            "2022-10-12 10:48:03,496 INFO  [main] index.IndexCollection (IndexCollection.java:267) - Whitelist: null\n",
            "2022-10-12 10:48:03,497 INFO  [main] index.IndexCollection (IndexCollection.java:268) - Pretokenized?: false\n",
            "2022-10-12 10:48:03,499 INFO  [main] index.IndexCollection (IndexCollection.java:269) - Index path: indexes/sample_collection_jsonl\n",
            "2022-10-12 10:48:03,506 INFO  [main] index.IndexCollection (IndexCollection.java:307) - ============ Indexing Collection ============\n",
            "2022-10-12 10:48:04,054 INFO  [main] index.IndexCollection (IndexCollection.java:417) - Thread pool with 1 threads initialized.\n",
            "2022-10-12 10:48:04,054 INFO  [main] index.IndexCollection (IndexCollection.java:419) - Initializing collection in id_con_data\n",
            "2022-10-12 10:48:04,058 INFO  [main] index.IndexCollection (IndexCollection.java:428) - 1 file found\n",
            "2022-10-12 10:48:04,059 INFO  [main] index.IndexCollection (IndexCollection.java:429) - Starting to index...\n",
            "2022-10-12 10:49:04,062 INFO  [main] index.IndexCollection (IndexCollection.java:441) - 150,000 documents indexed\n",
            "2022-10-12 10:49:17,480 DEBUG [pool-2-thread-1] index.IndexCollection$LocalIndexerThread (IndexCollection.java:213) - id_con_data/document.json: 190657 docs added.\n",
            "2022-10-12 10:49:25,785 INFO  [main] index.IndexCollection (IndexCollection.java:485) - Indexing Complete! 190,657 documents indexed\n",
            "2022-10-12 10:49:25,786 INFO  [main] index.IndexCollection (IndexCollection.java:486) - ============ Final Counter Values ============\n",
            "2022-10-12 10:49:25,786 INFO  [main] index.IndexCollection (IndexCollection.java:487) - indexed:          190,657\n",
            "2022-10-12 10:49:25,786 INFO  [main] index.IndexCollection (IndexCollection.java:488) - unindexable:            0\n",
            "2022-10-12 10:49:25,786 INFO  [main] index.IndexCollection (IndexCollection.java:489) - empty:                  0\n",
            "2022-10-12 10:49:25,787 INFO  [main] index.IndexCollection (IndexCollection.java:490) - skipped:                0\n",
            "2022-10-12 10:49:25,787 INFO  [main] index.IndexCollection (IndexCollection.java:491) - errors:                 0\n",
            "2022-10-12 10:49:25,794 INFO  [main] index.IndexCollection (IndexCollection.java:494) - Total 190,657 documents indexed in 00:01:22\n"
          ]
        }
      ]
    },
    {
      "cell_type": "code",
      "source": [
        "!pip install faiss-cpu"
      ],
      "metadata": {
        "colab": {
          "base_uri": "https://localhost:8080/"
        },
        "id": "GzcA8H9caam_",
        "outputId": "5f006e61-45af-4f5b-bec9-70a5dcab2db0"
      },
      "execution_count": null,
      "outputs": [
        {
          "output_type": "stream",
          "name": "stdout",
          "text": [
            "Looking in indexes: https://pypi.org/simple, https://us-python.pkg.dev/colab-wheels/public/simple/\n",
            "Collecting faiss-cpu\n",
            "  Downloading faiss_cpu-1.7.2-cp37-cp37m-manylinux_2_17_x86_64.manylinux2014_x86_64.whl (8.6 MB)\n",
            "\u001b[K     |████████████████████████████████| 8.6 MB 5.2 MB/s \n",
            "\u001b[?25hInstalling collected packages: faiss-cpu\n",
            "Successfully installed faiss-cpu-1.7.2\n"
          ]
        }
      ]
    },
    {
      "cell_type": "markdown",
      "source": [
        "## 搜尋"
      ],
      "metadata": {
        "id": "ORpiIGLcHlh4"
      }
    },
    {
      "cell_type": "code",
      "source": [
        "import time\n",
        "start = time.time()\n",
        "\n",
        "from pyserini.search.lucene import LuceneSearcher\n",
        "\n",
        "searcher = LuceneSearcher('indexes/sample_collection_jsonl')\n",
        "hits = searcher.search('cancer')\n",
        "\n",
        "end = time.time()\n",
        "\n",
        "for i in range(len(hits)):\n",
        "  print(f'{i+1:2} {hits[i].docid:4} {hits[i].score:.5f}')\n",
        "print(f'retreive by inverted index: {end-start}')"
      ],
      "metadata": {
        "colab": {
          "base_uri": "https://localhost:8080/"
        },
        "id": "69fze59fZ9c2",
        "outputId": "43c91e84-f2ee-4b15-f0f3-ae6daf28eb67"
      },
      "execution_count": null,
      "outputs": [
        {
          "output_type": "stream",
          "name": "stdout",
          "text": [
            " 1 24747090 2.50920\n",
            " 2 24645632 2.50460\n",
            " 3 24569437 2.49760\n",
            " 4 20859673 2.49170\n",
            " 5 7752269 2.48950\n",
            " 6 25017249 2.48910\n",
            " 7 23448100 2.48700\n",
            " 8 10214599 2.48430\n",
            " 9 23694983 2.48430\n",
            "10 25008853 2.47790\n",
            "retreive by inverted index: 0.04085826873779297\n"
          ]
        }
      ]
    },
    {
      "cell_type": "markdown",
      "source": [
        "## linear scan"
      ],
      "metadata": {
        "id": "vTbzUhSNHmeu"
      }
    },
    {
      "cell_type": "code",
      "source": [
        "ln = []\n",
        "start = time.time()\n",
        "for iddoc in json_list:\n",
        "  if 'cancer' in iddoc[\"contents\"]:\n",
        "    ln.append(iddoc)\n",
        "end = time.time()\n",
        "print(f'linear scan: {end-start}')"
      ],
      "metadata": {
        "colab": {
          "base_uri": "https://localhost:8080/"
        },
        "id": "6-hIWQLvHpqZ",
        "outputId": "7184739d-f02a-4ab1-f6a9-aee842569e28"
      },
      "execution_count": null,
      "outputs": [
        {
          "output_type": "stream",
          "name": "stdout",
          "text": [
            "linear scan: 0.6352710723876953\n"
          ]
        }
      ]
    }
  ]
}